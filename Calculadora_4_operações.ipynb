{
  "nbformat": 4,
  "nbformat_minor": 0,
  "metadata": {
    "colab": {
      "provenance": []
    },
    "kernelspec": {
      "name": "python3",
      "display_name": "Python 3"
    },
    "language_info": {
      "name": "python"
    }
  },
  "cells": [
    {
      "cell_type": "code",
      "source": [
        "## Passo a passo\n",
        "\n",
        "##1. Utilize o comando input para receber ao menos 2 números de entrada do usuário;\n",
        "\n",
        "##2. Converta os valores recebidos pelo usuário para número inteiro (int) ou ponto flutuante (float);\n",
        "\n",
        "##3. Implemente ao menos 4 operações matemáticas em seu código;\n",
        "\n",
        "##4. Adicione um laço de repetição ou uma condicional. Por exemplo: você pode permitir que o usuário escolha qual operação realizar ou criar um loop que permita ao usuário realizar várias operações consecutivas;\n",
        "\n",
        "##5. Utilize o comando print para exibir o resultado da operação matemática.##\n",
        "\n",
        "def somar(x, y):\n",
        "    return x + y\n",
        "\n",
        "def subtrair(x, y):\n",
        "    return x - y\n",
        "\n",
        "def multiplicar(x, y):\n",
        "    return x * y\n",
        "\n",
        "def dividir(x, y):\n",
        "    if y != 0:\n",
        "        return x / y\n",
        "    else:\n",
        "        return \"Erro: Divisão por zero não é permitida.\"\n",
        "\n",
        "def Calculadora():\n",
        "    print(\"Selecione a operação:\")\n",
        "    print(\"1. Adição\")\n",
        "    print(\"2. Subtração\")\n",
        "    print(\"3. Multiplicação\")\n",
        "    print(\"4. Divisão\")\n",
        "\n",
        "    while True:\n",
        "        escolha = input(\"Digite a escolha (1/2/3/4): \")\n",
        "\n",
        "        if escolha in ['1', '2', '3', '4']:\n",
        "            num1 = float(input(\"Digite o primeiro número: \"))\n",
        "            num2 = float(input(\"Digite o segundo número: \"))\n",
        "\n",
        "            if escolha == '1':\n",
        "                print(f\"Resultado: {num1} + {num2} = {somar(num1, num2)}\")\n",
        "            elif escolha == '2':\n",
        "                print(f\"Resultado: {num1} - {num2} = {subtrair(num1, num2)}\")\n",
        "            elif escolha == '3':\n",
        "                print(f\"Resultado: {num1} * {num2} = {multiplicar(num1, num2)}\")\n",
        "            elif escolha == '4':\n",
        "                resultado = dividir(num1, num2)\n",
        "                if isinstance(resultado, str):\n",
        "                    print(resultado)\n",
        "                else:\n",
        "                    print(f\"Resultado: {num1} / {num2} = {resultado}\")\n",
        "        else:\n",
        "            print(\"Escolha inválida. Tente novamente.\")\n",
        "\n",
        "        nova_operacao = input(\"Deseja realizar outra operação? (s/n): \")\n",
        "        if nova_operacao.lower() != 's':\n",
        "            break\n",
        "\n",
        "if __name__ == \"__main__\":\n",
        "    calculadora ()\n"
      ],
      "metadata": {
        "id": "37HK7QP3dxVi"
      },
      "execution_count": null,
      "outputs": []
    }
  ]
}